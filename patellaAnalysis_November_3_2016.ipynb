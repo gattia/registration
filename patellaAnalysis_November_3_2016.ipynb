{
 "cells": [
  {
   "cell_type": "code",
   "execution_count": null,
   "metadata": {
    "collapsed": true
   },
   "outputs": [],
   "source": [
    "import SimpleITK as sitk\n",
    "import numpy\n",
    "import os \n",
    "import glob\n",
    "import re\n",
    "import matplotlib.pyplot as plt\n",
    "\n",
    "%matplotlib inline\n",
    "\n",
    "#import scipy.ndimage\n",
    "#from parameters import *"
   ]
  },
  {
   "cell_type": "code",
   "execution_count": null,
   "metadata": {
    "collapsed": true
   },
   "outputs": [],
   "source": [
    "locationImages = \"/Volumes/Gatti_Files/Users/Gatti/Documents/Masters/T2_Study/MRI_Data_Biomech_Images_Official/MRI/Analyzed/exam_folder/QMetrics\""
   ]
  },
  {
   "cell_type": "code",
   "execution_count": null,
   "metadata": {
    "collapsed": true
   },
   "outputs": [],
   "source": [
    "def readImage(pathDicom):\n",
    "    reader = sitk.ImageSeriesReader()\n",
    "    filenamesDICOM = reader.GetGDCMSeriesFileNames(pathDicom)\n",
    "    reader.SetFileNames(filenamesDICOM)\n",
    "    imgOriginal = reader.Execute()\n",
    "    return(imgOriginal)"
   ]
  },
  {
   "cell_type": "markdown",
   "metadata": {},
   "source": [
    "The below section imports all of the dicom T2 images. "
   ]
  },
  {
   "cell_type": "code",
   "execution_count": null,
   "metadata": {
    "collapsed": false
   },
   "outputs": [],
   "source": [
    "dictionaryT2Images = {}\n",
    "os.chdir(locationImages)\n",
    "examFolders = glob.glob('exam_*')\n",
    "for exam in examFolders:\n",
    "    os.chdir(exam)\n",
    "    t2Series = glob.glob('Ser*00')\n",
    "    print(t2Series)\n",
    "    examNumber = str(re.sub('exam_', '', exam))\n",
    "    seriesName = str(re.sub('00', '', t2Series[0]))\n",
    "    seriesNumber = str(re.sub('Ser', '', seriesName))\n",
    "    dictionaryT2Images[exam] = readImage(seriesName + '/')\n",
    "    os.chdir('..')"
   ]
  },
  {
   "cell_type": "markdown",
   "metadata": {},
   "source": [
    "Extract just the first echo for each slice and create a new sitk object of 3d with just that number of slices. "
   ]
  },
  {
   "cell_type": "code",
   "execution_count": null,
   "metadata": {
    "collapsed": true
   },
   "outputs": [],
   "source": [
    "firstEcho = {}\n",
    "echos = 8\n",
    "inplaneResolution = (256,256)\n",
    "for image in dictionaryT2Images:\n",
    "    image2PlayWith = dictionaryT2Images[image]\n",
    "    totalSlices = image2PlayWith.GetSize()[2]\n",
    "    actualSlices = totalSlices/echos\n",
    "    numpyImage = sitk.GetArrayFromImage(image2PlayWith)\n",
    "    outputImage = numpyImage[0:totalSlices:echos, :, :]\n",
    "    firstEcho[image] = sitk.GetImageFromArray(outputImage)"
   ]
  },
  {
   "cell_type": "markdown",
   "metadata": {},
   "source": [
    "Extract a crude area that includes the patella. This is much larger than before. This will hopefully facilitate registration because we should have some femur and maybe tibia in the image as well. "
   ]
  },
  {
   "cell_type": "code",
   "execution_count": null,
   "metadata": {
    "collapsed": false
   },
   "outputs": [],
   "source": [
    "area2Register = {}\n",
    "iDimension = 128\n",
    "jDimension = 154\n",
    "for image in firstEcho:\n",
    "    image2Process = firstEcho[image]\n",
    "    numpyImage = sitk.GetArrayFromImage(image2Process)\n",
    "    slices = image2Process.GetSize()[2]\n",
    "    outputImage = numpy.zeros([26, jDimension, iDimension])\n",
    "    outputImage[0:slices, :,:] = numpyImage[:, 0:jDimension, 0:iDimension]\n",
    "    area2Register[image] = sitk.GetImageFromArray(outputImage)   \n",
    "    "
   ]
  },
  {
   "cell_type": "code",
   "execution_count": null,
   "metadata": {
    "collapsed": false,
    "scrolled": true
   },
   "outputs": [],
   "source": [
    "testArray = sitk.GetArrayFromImage(area2Register[image])\n",
    "# for i in range(26):\n",
    "#     plt.figure()\n",
    "#     plt.imshow(testArray[i,:,:])\n",
    "plt.imshow(testArray[12,:,:])"
   ]
  },
  {
   "cell_type": "markdown",
   "metadata": {},
   "source": [
    "Create a 4D vector of all the images that we are going to register to one another. "
   ]
  },
  {
   "cell_type": "code",
   "execution_count": null,
   "metadata": {
    "collapsed": false,
    "scrolled": true
   },
   "outputs": [],
   "source": [
    "vectorOfImages = sitk.VectorOfImage()\n",
    "for image in area2Register:\n",
    "    insertImage = sitk.Cast(area2Register[image], sitk.sitkInt16)\n",
    "    vectorOfImages.push_back(insertImage)\n",
    "\n",
    "vectorImage2Register = sitk.JoinSeries(vectorOfImages)"
   ]
  },
  {
   "cell_type": "code",
   "execution_count": null,
   "metadata": {
    "collapsed": false
   },
   "outputs": [],
   "source": [
    "elastix = sitk.SimpleElastix()\n",
    "elastix.SetFixedImage(vectorImage2Register)\n",
    "elastix.SetMovingImage(vectorImage2Register)\n",
    "elastix.SetParameterMap(sitk.GetDefaultParameterMap('groupwise'))\n",
    "elastix.Execute()"
   ]
  },
  {
   "cell_type": "code",
   "execution_count": null,
   "metadata": {
    "collapsed": false
   },
   "outputs": [],
   "source": [
    "sitk.GetDefaultParameterMap(\"translation\"))"
   ]
  },
  {
   "cell_type": "code",
   "execution_count": null,
   "metadata": {
    "collapsed": false
   },
   "outputs": [],
   "source": [
    "groupwiseRegistration = elastix.GetResultImage()\n",
    "groupwiseSlices = groupwiseRegistration.GetSize()[2]\n",
    "groupwiseImages = groupwiseRegistration.GetSize()[3]\n",
    "groupwiseInPlane = groupwiseRegistration.GetSize()[0:2]\n",
    "print('Common number of slices: ' + str(groupwiseSlices))\n",
    "print('Number of image sets present: ' + str(groupwiseImages))\n",
    "print('In-plane image resolution: ' + str(groupwiseInPlane))"
   ]
  },
  {
   "cell_type": "code",
   "execution_count": null,
   "metadata": {
    "collapsed": false
   },
   "outputs": [],
   "source": []
  },
  {
   "cell_type": "code",
   "execution_count": null,
   "metadata": {
    "collapsed": true
   },
   "outputs": [],
   "source": []
  }
 ],
 "metadata": {
  "kernelspec": {
   "display_name": "Python 2",
   "language": "python",
   "name": "python2"
  },
  "language_info": {
   "codemirror_mode": {
    "name": "ipython",
    "version": 2
   },
   "file_extension": ".py",
   "mimetype": "text/x-python",
   "name": "python",
   "nbconvert_exporter": "python",
   "pygments_lexer": "ipython2",
   "version": "2.7.11"
  }
 },
 "nbformat": 4,
 "nbformat_minor": 0
}
